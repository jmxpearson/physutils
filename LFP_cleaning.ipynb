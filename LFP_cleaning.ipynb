{
 "metadata": {
  "name": "",
  "signature": "sha256:93f57e6a9a7009316af359a9dee08fa01f4fcf069bc0fbc8ff229ef8aff0bd25"
 },
 "nbformat": 3,
 "nbformat_minor": 0,
 "worksheets": [
  {
   "cells": [
    {
     "cell_type": "markdown",
     "metadata": {},
     "source": [
      "Let's try to load and clean some lfp data:"
     ]
    },
    {
     "cell_type": "code",
     "collapsed": false,
     "input": [
      "import numpy as np\n",
      "import pandas as pd\n",
      "import physutils as phys\n",
      "import matplotlib.pyplot as plt\n",
      "#%matplotlib inline"
     ],
     "language": "python",
     "metadata": {},
     "outputs": [],
     "prompt_number": 1
    },
    {
     "cell_type": "code",
     "collapsed": false,
     "input": [
      "lfp = pd.DataFrame.from_csv(\"sample_lfp.csv\")\n",
      "lfp = lfp[lfp.columns[0]]\n",
      "lfp.head()"
     ],
     "language": "python",
     "metadata": {},
     "outputs": [
      {
       "metadata": {},
       "output_type": "pyout",
       "prompt_number": 2,
       "text": [
        "time\n",
        "0.000   -0.012048\n",
        "0.005   -0.023140\n",
        "0.010   -0.032884\n",
        "0.015   -0.045864\n",
        "0.020   -0.067374\n",
        "Name: 17, dtype: float64"
       ]
      }
     ],
     "prompt_number": 2
    },
    {
     "cell_type": "code",
     "collapsed": false,
     "input": [
      "plt.plot(lfp.index, lfp);\n",
      "plt.show()"
     ],
     "language": "python",
     "metadata": {},
     "outputs": [],
     "prompt_number": 4
    },
    {
     "cell_type": "markdown",
     "metadata": {},
     "source": [
      "We estimate the standard deviation by noting that the median of the absolute value of the signal $x^* = {\\rm median} (|x|)$ is the 75th percentile of the corresponding normal distribution:\n",
      "$$\n",
      "{x^* \\over \\sigma} = \\Phi^{-1}(0.75)\n",
      "$$"
     ]
    },
    {
     "cell_type": "code",
     "collapsed": false,
     "input": [
      "from scipy.stats import norm\n",
      "sig = np.median(abs(lfp)) / norm.ppf(0.75)"
     ],
     "language": "python",
     "metadata": {},
     "outputs": [],
     "prompt_number": 5
    },
    {
     "cell_type": "code",
     "collapsed": false,
     "input": [
      "nstd = 4\n",
      "plt.plot(lfp.index, lfp)\n",
      "plt.axhline(nstd * sig)\n",
      "plt.axhline(-nstd * sig)\n",
      "plt.show()"
     ],
     "language": "python",
     "metadata": {},
     "outputs": [],
     "prompt_number": 6
    },
    {
     "cell_type": "markdown",
     "metadata": {},
     "source": [
      "Let's try to just detect railing."
     ]
    },
    {
     "cell_type": "code",
     "collapsed": false,
     "input": [
      "dlfp = np.diff(lfp)\n",
      "dlfp = np.insert(dlfp, 0, np.inf)  # pad to same length as lfp"
     ],
     "language": "python",
     "metadata": {},
     "outputs": [],
     "prompt_number": 7
    },
    {
     "cell_type": "code",
     "collapsed": false,
     "input": [
      "plt.plot(dlfp)\n",
      "plt.show()"
     ],
     "language": "python",
     "metadata": {},
     "outputs": [],
     "prompt_number": 8
    },
    {
     "cell_type": "markdown",
     "metadata": {},
     "source": [
      "Define a threshold for flatness as being less than $10^{-3}$ of the maximum deviation observed in the data. This is pretty liberal."
     ]
    },
    {
     "cell_type": "code",
     "collapsed": false,
     "input": [
      "data_range = np.max(np.abs(lfp))\n",
      "th = 1e-3 * np.array(data_range)"
     ],
     "language": "python",
     "metadata": {},
     "outputs": [],
     "prompt_number": 9
    },
    {
     "cell_type": "markdown",
     "metadata": {},
     "source": [
      "Trigger an artifact when the signal is flat enough and higher than $4\\sigma$:"
     ]
    },
    {
     "cell_type": "code",
     "collapsed": false,
     "input": [
      "is_art = np.logical_and(np.abs(dlfp) < th, \n",
      "                        np.abs(lfp.values) > 4 * sig)"
     ],
     "language": "python",
     "metadata": {},
     "outputs": [],
     "prompt_number": 10
    },
    {
     "cell_type": "markdown",
     "metadata": {},
     "source": [
      "Remove very short artifacts that are probably false positives."
     ]
    },
    {
     "cell_type": "code",
     "collapsed": false,
     "input": [
      "def rle(x):\n",
      "    dx = np.diff(np.insert(x, 0, np.inf))\n",
      "    starts = np.flatnonzero(dx)\n",
      "    stops = np.append(starts[1:], np.size(x))\n",
      "    runlens = stops - starts\n",
      "    values = x[starts]\n",
      "    return starts, runlens, values"
     ],
     "language": "python",
     "metadata": {},
     "outputs": [],
     "prompt_number": 77
    },
    {
     "cell_type": "code",
     "collapsed": false,
     "input": [
      "def remove_short_runs(x, minlen, replace_val):\n",
      "    starts, runlens, values = rle(x)\n",
      "    to_replace = runlens < minlen\n",
      "    stops = starts + runlens\n",
      "    rngs = zip(starts[to_replace], stops[to_replace])\n",
      "    newx = x.copy()\n",
      "    for rng in rngs:\n",
      "        newx[slice(*rng)] = replace_val\n",
      "    return newx"
     ],
     "language": "python",
     "metadata": {},
     "outputs": [],
     "prompt_number": 78
    },
    {
     "cell_type": "code",
     "collapsed": false,
     "input": [
      "is_art_min_removed = remove_short_runs(is_art, 10, False)\n",
      "rle(is_art_min_removed)[1]"
     ],
     "language": "python",
     "metadata": {},
     "outputs": [
      {
       "metadata": {},
       "output_type": "pyout",
       "prompt_number": 84,
       "text": [
        "array([64422,    25,    59,    30,   494,    45,   121,    82,   221,\n",
        "          33, 11427,    29,    50,   106,    91,   139,    39,    74,\n",
        "         173,    35,    83,    68,    43,   226,   833,    25,    30,\n",
        "         115,    86,    86,   951,    44,    29,    12,    46,   169,\n",
        "          36,    35,  1244,    33,    59,   156,  1860,    94,   160,\n",
        "          43,   380,    41,   645,    47,  3929,    75,   239,    15,\n",
        "        2842,    28,    47,    19, 90920])"
       ]
      }
     ],
     "prompt_number": 84
    },
    {
     "cell_type": "code",
     "collapsed": false,
     "input": [
      "smwid = 300\n",
      "is_art_smoothed = phys.smooth(is_art_min_removed, smwid).astype('bool')\n",
      "aa = rle(is_art_smoothed)[1]"
     ],
     "language": "python",
     "metadata": {},
     "outputs": [],
     "prompt_number": 119
    },
    {
     "cell_type": "code",
     "collapsed": false,
     "input": [
      "ref = is_art_smoothed\n",
      "marked = ref.copy().astype('float64')\n",
      "marked[~ref] = np.nan\n",
      "marked[ref == 1] = 0."
     ],
     "language": "python",
     "metadata": {},
     "outputs": [],
     "prompt_number": 120
    },
    {
     "cell_type": "code",
     "collapsed": false,
     "input": [
      "plt.plot(lfp)\n",
      "plt.plot(marked, linewidth=4)\n",
      "plt.show()"
     ],
     "language": "python",
     "metadata": {},
     "outputs": [],
     "prompt_number": 121
    }
   ],
   "metadata": {}
  }
 ]
}