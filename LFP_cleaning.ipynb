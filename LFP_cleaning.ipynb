{
 "metadata": {
  "name": "",
  "signature": "sha256:d0cf8ecb95e16eebaca73528a9c2b6477f8ace73f174a6c3209ac0859126f24e"
 },
 "nbformat": 3,
 "nbformat_minor": 0,
 "worksheets": [
  {
   "cells": [
    {
     "cell_type": "markdown",
     "metadata": {},
     "source": [
      "Let's try to load and clean some lfp data:"
     ]
    },
    {
     "cell_type": "code",
     "collapsed": false,
     "input": [
      "import numpy as np\n",
      "import pandas as pd\n",
      "import physutils as phys\n",
      "import matplotlib.pyplot as plt\n",
      "#%matplotlib inline"
     ],
     "language": "python",
     "metadata": {},
     "outputs": [],
     "prompt_number": 1
    },
    {
     "cell_type": "code",
     "collapsed": false,
     "input": [
      "lfp = pd.DataFrame.from_csv(\"sample_lfp.csv\")\n",
      "lfp = lfp[lfp.columns[0]]\n",
      "lfp.head()"
     ],
     "language": "python",
     "metadata": {},
     "outputs": [
      {
       "metadata": {},
       "output_type": "pyout",
       "prompt_number": 2,
       "text": [
        "time\n",
        "0.000   -0.012048\n",
        "0.005   -0.023140\n",
        "0.010   -0.032884\n",
        "0.015   -0.045864\n",
        "0.020   -0.067374\n",
        "Name: 17, dtype: float64"
       ]
      }
     ],
     "prompt_number": 2
    },
    {
     "cell_type": "code",
     "collapsed": false,
     "input": [
      "plt.plot(lfp.index, lfp);\n",
      "plt.show()"
     ],
     "language": "python",
     "metadata": {},
     "outputs": [],
     "prompt_number": 3
    },
    {
     "cell_type": "markdown",
     "metadata": {},
     "source": [
      "We estimate the standard deviation by noting that the median of the absolute value of the signal $x^* = {\\rm median} (|x|)$ is the 75th percentile of the corresponding normal distribution:\n",
      "$$\n",
      "{x^* \\over \\sigma} = \\Phi^{-1}(0.75)\n",
      "$$"
     ]
    },
    {
     "cell_type": "code",
     "collapsed": false,
     "input": [
      "from scipy.stats import norm\n",
      "sig = np.median(abs(lfp)) / norm.ppf(0.75)"
     ],
     "language": "python",
     "metadata": {},
     "outputs": [],
     "prompt_number": 4
    },
    {
     "cell_type": "code",
     "collapsed": false,
     "input": [
      "nstd = 4\n",
      "plt.plot(lfp.index, lfp)\n",
      "plt.axhline(nstd * sig)\n",
      "plt.axhline(-nstd * sig)\n",
      "plt.show()"
     ],
     "language": "python",
     "metadata": {},
     "outputs": [],
     "prompt_number": 5
    },
    {
     "cell_type": "markdown",
     "metadata": {},
     "source": [
      "Let's try to just detect railing."
     ]
    },
    {
     "cell_type": "code",
     "collapsed": false,
     "input": [
      "dlfp = np.diff(lfp)\n",
      "dlfp = np.insert(dlfp, 0, np.inf)  # pad to same length as lfp"
     ],
     "language": "python",
     "metadata": {},
     "outputs": [],
     "prompt_number": 6
    },
    {
     "cell_type": "code",
     "collapsed": false,
     "input": [
      "plt.plot(dlfp)\n",
      "plt.show()"
     ],
     "language": "python",
     "metadata": {},
     "outputs": [],
     "prompt_number": 7
    },
    {
     "cell_type": "markdown",
     "metadata": {},
     "source": [
      "Define a threshold for flatness as being less than $10^{-3}$ of the maximum deviation observed in the data. This is pretty liberal."
     ]
    },
    {
     "cell_type": "code",
     "collapsed": false,
     "input": [
      "th = 1e-2 * sig"
     ],
     "language": "python",
     "metadata": {},
     "outputs": [],
     "prompt_number": 8
    },
    {
     "cell_type": "markdown",
     "metadata": {},
     "source": [
      "Trigger an artifact when the signal is flat enough and higher than $4\\sigma$:"
     ]
    },
    {
     "cell_type": "code",
     "collapsed": false,
     "input": [
      "is_art = np.logical_and(np.abs(dlfp) < th, \n",
      "                        np.abs(lfp.values) > 4 * sig)"
     ],
     "language": "python",
     "metadata": {},
     "outputs": [],
     "prompt_number": 9
    },
    {
     "cell_type": "markdown",
     "metadata": {},
     "source": [
      "Remove very short artifacts that are probably false positives."
     ]
    },
    {
     "cell_type": "code",
     "collapsed": false,
     "input": [
      "is_art_min_removed = phys.remove_short_runs(is_art, 10, False)\n",
      "phys.rle(is_art_min_removed)[1]"
     ],
     "language": "python",
     "metadata": {},
     "outputs": [
      {
       "metadata": {},
       "output_type": "pyout",
       "prompt_number": 10,
       "text": [
        "array([64417,    32,    52,    39,   485,    51,   119,    84,   217,\n",
        "          36, 11425,    34,    46,   113,    79,   148,    34,    82,\n",
        "         167,    36,    77,    74,    36,   233,   827,    32,    23,\n",
        "         120,    84,    89,   945,    53,    25,    19,    38,   172,\n",
        "          28,    41,  1240,    38,    53,   174,  1846,   102,   153,\n",
        "          44,   379,    41,   645,    53,  3922,    76,   239,    19,\n",
        "        2837,    29,    47,    23, 90916])"
       ]
      }
     ],
     "prompt_number": 10
    },
    {
     "cell_type": "code",
     "collapsed": false,
     "input": [
      "smwid = 300\n",
      "is_art_smoothed = phys.smooth(is_art_min_removed, smwid).astype('bool')"
     ],
     "language": "python",
     "metadata": {},
     "outputs": [],
     "prompt_number": 11
    },
    {
     "cell_type": "code",
     "collapsed": false,
     "input": [
      "ref = is_art_smoothed\n",
      "marked = ref.copy().astype('float64')\n",
      "marked[~ref] = np.nan\n",
      "marked[ref == 1] = 0."
     ],
     "language": "python",
     "metadata": {},
     "outputs": [],
     "prompt_number": 12
    },
    {
     "cell_type": "code",
     "collapsed": false,
     "input": [
      "plt.plot(lfp)\n",
      "plt.plot(marked, linewidth=4)\n",
      "plt.show()"
     ],
     "language": "python",
     "metadata": {},
     "outputs": [],
     "prompt_number": 13
    },
    {
     "cell_type": "markdown",
     "metadata": {},
     "source": [
      "Alternately, we can call `censor_railing` from the physutils package:"
     ]
    },
    {
     "cell_type": "code",
     "collapsed": false,
     "input": [
      "ref = phys.censor_railing(lfp.values, 4, 1e-2, 10, 300)\n",
      "lfp_masked = lfp.mask(ref)\n",
      "plt.plot(lfp_masked)\n",
      "plt.show()"
     ],
     "language": "python",
     "metadata": {},
     "outputs": [],
     "prompt_number": 18
    },
    {
     "cell_type": "markdown",
     "metadata": {},
     "source": [
      "Or, we can convert the data to an `LFPset` and call its `censor` method:"
     ]
    },
    {
     "cell_type": "code",
     "collapsed": false,
     "input": [
      "lfp_masked = phys.LFPset(lfp).censor()\n",
      "plt.plot(lfp_masked)\n",
      "plt.show()"
     ],
     "language": "python",
     "metadata": {},
     "outputs": [],
     "prompt_number": 7
    }
   ],
   "metadata": {}
  }
 ]
}