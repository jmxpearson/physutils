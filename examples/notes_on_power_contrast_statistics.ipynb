{
 "metadata": {
  "name": "",
  "signature": "sha256:15fb66d50aa4a04dd774b97ce36ee3b6d1f5c864e12bc64b1127ecfcb0517be7"
 },
 "nbformat": 3,
 "nbformat_minor": 0,
 "worksheets": [
  {
   "cells": [
    {
     "cell_type": "heading",
     "level": 1,
     "metadata": {},
     "source": [
      "Notes on statistical significance of average power contrasts"
     ]
    },
    {
     "cell_type": "markdown",
     "metadata": {},
     "source": [
      "When comparing time-frequency plots across conditions, we would like to know when they differ. To do this, we frequently compare the power ratio in each pixel, which, when plotted on a decibel scale, is equal to the difference in the decibel-scaled power in each condition:\n",
      "$$\n",
      "10 \\log_{10} \\frac{P}{P'} = 10 \\log_{10} P - 10 \\log_{10} P'\n",
      "$$\n",
      "\n",
      "More specifically, when comparing mean power in two different conditions, we want to compute \n",
      "$$\n",
      "C \\equiv 10 \\log_{10} \\frac{\\mathbb{E}[P]}{\\mathbb{E}[P']}\n",
      "$$\n",
      "which we can approximate by the estimate\n",
      "$$\n",
      "\\tilde{c} = 10 \\log_{10} \\frac{m_P}{m_{P'}}\n",
      "$$\n",
      "with $m_{P}$ the sample mean of P."
     ]
    },
    {
     "cell_type": "heading",
     "level": 2,
     "metadata": {},
     "source": [
      "Estimating $C$"
     ]
    },
    {
     "cell_type": "markdown",
     "metadata": {},
     "source": [
      "Now $X$ is an estimator that depends on our data, and to decide whether the pixel contrast is significant, we might like to do something like a Wald test, which would compare\n",
      "$$\n",
      "\\frac{\\tilde{c} - c_0}{{\\rm se}[\\tilde{c}]}\n",
      "$$\n",
      "with $c_0$ a hypothesized reference point (most likely 0)."
     ]
    },
    {
     "cell_type": "markdown",
     "metadata": {},
     "source": [
      "So we would like to compute the standard error of the test statistic $X$. \n",
      "\n",
      "We can do this tractably by assuming $P$ is log-normally distributed\n",
      "$$\n",
      "P \\sim \\log\\mathcal{N}(\\mu, \\sigma^2)\n",
      "$$\n",
      "or equivalently, that \n",
      "$$\n",
      "Z \\equiv \\log P \\sim \\mathcal{N}(\\mu, \\sigma^2)\n",
      "$$\n",
      "\n",
      "First, note that in this convention, the decibel value of $P$ is given by\n",
      "$$\n",
      "10 \\log_{10} P = \\frac{10}{\\log 10} \\log P = \\frac{10}{\\log 10} Z \n",
      "\\approx 4.34\\, Z\n",
      "$$\n",
      "\n",
      "Second, recall that, for log-normally distributed $P$ as above,\n",
      "$$\n",
      "\\mathbb{E}[P] = e^{\\mu + \\frac{1}{2}\\sigma^2}\n",
      "$$\n",
      "so that we can write\n",
      "$$\n",
      "\\frac{\\log 10}{10} C = \\mu - \\mu' + \\frac{1}{2}(\\sigma^2 - \\sigma'^2) \n",
      "$$\n",
      "\n",
      "This immediately suggests an alternative formulation for $C$:\n",
      "$$\n",
      "\\frac{\\log 10}{10} \\hat{c} = m - m' + \\frac{1}{2}(s^2 - s'^2)\n",
      "$$\n",
      "with $m$ and $s$ the sample mean and standard deviation."
     ]
    },
    {
     "cell_type": "heading",
     "level": 2,
     "metadata": {},
     "source": [
      "What is the variance of $\\hat{c}$?"
     ]
    },
    {
     "cell_type": "markdown",
     "metadata": {},
     "source": [
      "Using conventional formulas for the standard variance, we have\n",
      "$$\n",
      "{\\rm stdvar}[m] = \\sigma^2/n\n",
      "$$\n",
      "$$\n",
      "{\\rm stdvar}[s] = 2\\sigma^4/(n - 1)\n",
      "$$\n",
      "\n",
      "The fact that $m$ and $s^2$ are uncorrelated then means that the pieces of $\\hat{c}$ add in quadrature, giving\n",
      "$$\n",
      "\\left(\\frac{\\log 10}{10}\\right)^2{\\rm stdvar}[\\hat{c}] = \\frac{\\sigma^2}{n} + \\frac{\\sigma'^2}{n'} \n",
      "+ \\frac{\\sigma^4}{n - 1} - \\frac{\\sigma'^4}{n' - 1} \\\\ \\approx\n",
      "\\frac{s^2}{n} + \\frac{s'^2}{n'} \n",
      "+ \\frac{s^4}{n - 1} - \\frac{s'^4}{n' - 1}\n",
      "$$\n",
      "\n",
      "This then yields the Wald statistic\n",
      "$$\n",
      "\\frac{m_Z - m_{Z'} + \\frac{1}{2}(s^2 - s'^2)}{\\sqrt{\\frac{s^2}{n} + \\frac{s'^2}{n'} + \\frac{s^4}{n - 1} - \\frac{s'^4}{n' - 1}}}\n",
      "$$\n",
      "\n",
      "This, then, can be used to test the significance of the contrast metric, $C$"
     ]
    },
    {
     "cell_type": "heading",
     "level": 2,
     "metadata": {},
     "source": [
      "Sanity check: sampling analysis"
     ]
    },
    {
     "cell_type": "markdown",
     "metadata": {},
     "source": [
      "Let's begin by convincing ourselves of properties of log-normal distributions."
     ]
    },
    {
     "cell_type": "code",
     "collapsed": false,
     "input": [
      "import scipy.stats as stats\n",
      "import numpy as np\n",
      "import matplotlib.pyplot as plt\n",
      "%matplotlib inline\n",
      "\n",
      "sig = 1\n",
      "mu = 0.5\n",
      "N = 10000\n",
      "sample = stats.lognorm.rvs(s=sig, scale=np.exp(mu), size=N)"
     ],
     "language": "python",
     "metadata": {},
     "outputs": [],
     "prompt_number": 13
    },
    {
     "cell_type": "code",
     "collapsed": false,
     "input": [
      "expected_mean = np.exp(mu + 0.5 * sig**2)\n",
      "\n",
      "plt.hist(sample, 100);\n",
      "plt.vlines(expected_mean, *plt.ylim(), colors='red', linestyles='dashed');\n",
      "\n",
      "plt.figure()\n",
      "plt.hist(np.log(sample), 100)\n",
      "plt.vlines(mu, *plt.ylim(), colors='red', linestyles='dashed');\n",
      "\n",
      "print \"Expected sample mean = {}\\n Actual sample mean = {}\".format(expected_mean, np.mean(sample))"
     ],
     "language": "python",
     "metadata": {},
     "outputs": [
      {
       "output_type": "stream",
       "stream": "stdout",
       "text": [
        "Expected sample mean = 2.71828182846\n",
        " Actual sample mean = 2.67942599032\n"
       ]
      },
      {
       "metadata": {},
       "output_type": "display_data",
       "png": "[encoded data removed]",
       "text": [
        "<matplotlib.figure.Figure at 0x4164310>"
       ]
      },
      {
       "metadata": {},
       "output_type": "display_data",
       "png": "[encoded data removed]",
       "text": [
        "<matplotlib.figure.Figure at 0x4e59fd0>"
       ]
      }
     ],
     "prompt_number": 16
    },
    {
     "cell_type": "markdown",
     "metadata": {},
     "source": [
      "Now, let's simulate the process of measuring the contrast $\\hat{c}$ many times."
     ]
    },
    {
     "cell_type": "code",
     "collapsed": false,
     "input": [
      "np.random.seed(12345)\n",
      "Ntimes = 1000\n",
      "N0 = 1000\n",
      "N1 = 1500\n",
      "mu0 = 1\n",
      "mu1 = 0\n",
      "sig0 = 0.6\n",
      "sig1 = 0.7\n",
      "\n",
      "C = mu0 - mu1 + 0.5 * (sig0 ** 2 - sig1 ** 2)"
     ],
     "language": "python",
     "metadata": {},
     "outputs": [],
     "prompt_number": 77
    },
    {
     "cell_type": "code",
     "collapsed": false,
     "input": [
      "ctilde = np.empty(Ntimes)\n",
      "chat = np.empty(Ntimes)\n",
      "stdchat = np.empty(Ntimes)\n",
      "\n",
      "for ind in np.arange(Ntimes):\n",
      "    sample0 = stats.lognorm.rvs(s=sig0, scale=np.exp(mu0), size=N0)\n",
      "    sample1 = stats.lognorm.rvs(s=sig1, scale=np.exp(mu1), size=N1)\n",
      "\n",
      "    ctilde[ind] = np.log(np.mean(sample0) / np.mean(sample1))\n",
      "\n",
      "    z0 = np.log(sample0)\n",
      "    z1 = np.log(sample1)\n",
      "\n",
      "    m0 = np.mean(z0)\n",
      "    m1 = np.mean(z1)\n",
      "\n",
      "    s20 = np.var(z0)\n",
      "    s21 = np.var(z1)\n",
      "\n",
      "    chat[ind] = m0 - m1 + 0.5 * (s20 - s21)\n",
      "    stdchat[ind] = np.sqrt((s20 / N0) + (s21 / N1) + (s20 ** 2 / (N0 - 1)) + \n",
      "                    (s21 ** 2 / (N1 - 1))) \n",
      "\n",
      "wald = chat / stdchat"
     ],
     "language": "python",
     "metadata": {},
     "outputs": [],
     "prompt_number": 78
    },
    {
     "cell_type": "markdown",
     "metadata": {},
     "source": [
      "Compare the estimates $\\tilde{c}$ and $\\hat{c}$ to $C$:"
     ]
    },
    {
     "cell_type": "code",
     "collapsed": false,
     "input": [
      "plt.subplot(121)\n",
      "plt.hist(ctilde, 100);\n",
      "plt.vlines(C, *plt.ylim(), colors='red', linestyles='dashed');\n",
      "\n",
      "plt.subplot(122)\n",
      "plt.hist(chat, 100);\n",
      "plt.vlines(C, *plt.ylim(), colors='red', linestyles='dashed');\n",
      "\n",
      "print \"C = {}\".format(C)\n",
      "print \"mean(ctilde) = {:.3f}\".format(np.mean(ctilde))\n",
      "print \"mean(chat) = {:.3f}\".format(np.mean(chat))\n",
      "print \"mean(stdchat) = {:.3f}\".format(np.mean(stdchat))\n",
      "print \"std(chat) = {:.3f}\".format(np.std(chat))"
     ],
     "language": "python",
     "metadata": {},
     "outputs": [
      {
       "output_type": "stream",
       "stream": "stdout",
       "text": [
        "C = 0.935\n",
        "mean(ctilde) = 0.935\n",
        "mean(chat) = 0.935\n",
        "mean(stdchat) = 0.031\n",
        "std(chat) = 0.028\n"
       ]
      },
      {
       "metadata": {},
       "output_type": "display_data",
       "png": "[encoded data removed]",
       "text": [
        "<matplotlib.figure.Figure at 0x4195d50>"
       ]
      }
     ],
     "prompt_number": 79
    },
    {
     "cell_type": "code",
     "collapsed": false,
     "input": [
      "plt.hist(stdchat, 100);\n",
      "print \"coefficient of variation in stdchat = {:.3f}\".format(np.std(stdchat) / np.mean(stdchat))"
     ],
     "language": "python",
     "metadata": {},
     "outputs": [
      {
       "output_type": "stream",
       "stream": "stdout",
       "text": [
        "coefficient of variation in stdchat = 0.019\n"
       ]
      },
      {
       "metadata": {},
       "output_type": "display_data",
       "png": "[encoded data removed]",
       "text": [
        "<matplotlib.figure.Figure at 0x5236650>"
       ]
      }
     ],
     "prompt_number": 83
    }
   ],
   "metadata": {}
  }
 ]
}