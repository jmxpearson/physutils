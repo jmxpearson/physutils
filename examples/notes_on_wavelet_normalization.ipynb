{
 "metadata": {
  "name": "",
  "signature": "sha256:29f1fe09df2f107244170f2bdd2f9a6973ebd8962e6d1229c04660892ae6dcda"
 },
 "nbformat": 3,
 "nbformat_minor": 0,
 "worksheets": [
  {
   "cells": [
    {
     "cell_type": "heading",
     "level": 1,
     "metadata": {},
     "source": [
      "Some notes on wavelet normalization"
     ]
    },
    {
     "cell_type": "markdown",
     "metadata": {},
     "source": [
      "`physutils.tf` uses Morlet wavelets for its `continuous_wavelet` function. This function is a thin wrapper, with useful defaults, around `scipy.signal.cwt`. However, `scipy.signal.morlet`'s calling conventions do not conform to those for `scipy.signal.cwt`. In addition, there are a number of different normalization conventions in the literature. These notes connect the implementation in the present package to other conventions."
     ]
    },
    {
     "cell_type": "heading",
     "level": 2,
     "metadata": {},
     "source": [
      "Scipy"
     ]
    },
    {
     "cell_type": "markdown",
     "metadata": {},
     "source": [
      "[`scipy.signal.morlet`](http://docs.scipy.org/doc/scipy/reference/generated/scipy.signal.morlet.html) defines the Morlet wavelet as\n",
      "\n",
      "```\n",
      "pi**-0.25 * (exp(1j*w*x) - exp(-0.5*(w**2))) * exp(-0.5*(x**2))\n",
      "```\n",
      "\n",
      "or, in friendlier notation:\n",
      "\n",
      "$$\n",
      "\\Psi^{(1)}_w(x)= \\pi^{1/4} e^{-\\frac{1}{2} x^2} (e^{iwx} - e^{-w^2/2})\n",
      "$$"
     ]
    },
    {
     "cell_type": "heading",
     "level": 2,
     "metadata": {},
     "source": [
      "Wikipedia"
     ]
    },
    {
     "cell_type": "markdown",
     "metadata": {},
     "source": [
      "[Wikipedia](http://en.wikipedia.org/wiki/Morlet_wavelet) defines the same wavelet with slightly altered notation:\n",
      "\n",
      "$$\n",
      "\\Psi^{(2)}_\\sigma(t) = c_\\sigma \\pi^{1/4} e^{-\\frac{1}{2} t^2} (e^{i\\sigma t} - e^{-\\sigma^2/2})\n",
      "$$\n",
      "\n",
      "with $c_\\sigma \\approx 1$ for $\\sigma > 5$. \n",
      "\n",
      "Clearly, $\\Psi^{(1)}_w = \\Psi^{(2)}_\\sigma$."
     ]
    },
    {
     "cell_type": "heading",
     "level": 2,
     "metadata": {},
     "source": [
      "Cavanagh et al. (2011, *Nature Neuroscience*)"
     ]
    },
    {
     "cell_type": "markdown",
     "metadata": {},
     "source": [
      "[Cavanagh et al. (2011)](http://www.nature.com/neuro/journal/v14/n11/full/nn.2925.html), use a slightly altered notation based on the linear frequency, $f$:\n",
      "$$\n",
      "\\Psi^{(3)}_{f\\sigma}(t) \\propto e^{2\\pi i f t} e^{-t^2/2\\sigma^2}\n",
      "$$\n",
      "\n",
      "with $2\\pi f \\sigma = 4.5$, giving the equivalent formulation\n",
      "\n",
      "$$\n",
      "\\Psi^{(3)}_{\\sigma}(t) \\propto e^{4.5 i t/\\sigma} e^{-t^2/2\\sigma^2}\n",
      "$$"
     ]
    },
    {
     "cell_type": "markdown",
     "metadata": {},
     "source": [
      "Again, we can relate this to $\\Psi^{(2)}_\\sigma(t)$ through the (approximate) identification\n",
      "\n",
      "$$\n",
      "\\Psi^{(2)}_{4.5}(t) = \\Psi^{(3)}_{\\sigma}(\\sigma t)\n",
      "$$\n",
      "\n",
      "where we note that the right hand side above is actually independent of $\\sigma$."
     ]
    },
    {
     "cell_type": "heading",
     "level": 2,
     "metadata": {},
     "source": [
      "Matlab"
     ]
    },
    {
     "cell_type": "markdown",
     "metadata": {},
     "source": [
      "Finally, Matlab uses a different convention for its [complex Morlet wavelet](http://www.mathworks.com/help/wavelet/ref/cmorwavf.html) based on bandwidth ($F_b$) and center frequency ($F_c$) parameters:\n",
      "\n",
      "$$\n",
      "\\Psi^{(4)}_{F_b F_c}(x) = \\sqrt{\\pi F_b} e^{2\\pi i F_c x} e^{-x^2/F_b}\n",
      "$$"
     ]
    },
    {
     "cell_type": "markdown",
     "metadata": {},
     "source": [
      "Once again, we can convert this to the other forms by noting that\n",
      "\n",
      "$$\n",
      "\\Psi^{(4)}_{F_b F_c}(t\\sqrt{\\frac{F_b}{2}}) =\n",
      "\\sqrt{\\pi F_b} e^{\\sqrt{2}\\pi i F_c\\sqrt{F_b} t} e^{-t^2/2}\n",
      "$$\n",
      "\n",
      "and defining $\\sigma' \\equiv \\sqrt{2F_b}\\pi F_c$, such that\n",
      "\n",
      "$$\n",
      "\\Psi^{(2)}_{\\sigma'}(t) = \\Psi^{(4)}_{F_b F_c}(t\\sqrt{\\frac{F_b}{2}})\n",
      "$$\n",
      "\n",
      "Thus, the Matlab (1,1) complex Morlet wavelet is equivalent to the Wikipedia/Scipy convention (up to a rescaling) if we set $\\sigma = \\sqrt{2} \\pi \\approx 4.44$, nearly the same setting as used by Cavanagh et al."
     ]
    },
    {
     "cell_type": "heading",
     "level": 2,
     "metadata": {},
     "source": [
      "Converting linear frequencies to wavelet scales"
     ]
    },
    {
     "cell_type": "markdown",
     "metadata": {},
     "source": [
      "For comparison with Fourier methods, it can be helpful to think of wavelet transforms in terms of frequencies (instead of the more conventional scales). Under conventional wavelet scaling,\n",
      "\n",
      "$$\n",
      "\\Psi(t) \\rightarrow \\Psi(\\frac{t-b}{a})\n",
      "$$\n",
      "\n",
      "with $b$ a translation and $a$ a scaling.\n",
      "\n",
      "For our case, we can easily do the same, such that\n",
      "$$\n",
      "\\Psi^{(2)}_\\sigma (t) \\rightarrow \\Psi^{(2)}_\\sigma \\left(\\frac{t}{b}\\right) \\approx\n",
      "e^{-\\frac{t^2}{2b^2} } e^{i\\sigma t/b}\n",
      "$$\n",
      "\n",
      "Clearly, this is exactly $\\Psi^{(3)}$ when $\\sigma^{(2)}=4.5$, so rescaling the Morlet is equivalet to choosing $\\sigma^{(3)}$ or $f$ in the Cavanagh et al. convention. In fact, as stated above, we have the relationship $2\\pi f \\sigma^{(3)} = 4.5$, so the rescaled wavelet can be written\n",
      "\n",
      "$$\n",
      "e^{-\\frac{(2\\pi ft)^2}{2(4.5)^2} } e^{2\\pi i f t}\n",
      "$$\n",
      "\n",
      "and we have an equivalence between the scale $b$ and linear frequency $f$:\n",
      "$$\n",
      "b = \\frac{1}{2\\pi f}\n",
      "$$\n",
      "\n",
      "Of course, the factor of $2\\pi$ depends on whether $t$ is parameterized over $[-1/2, 1/2]$ or $[-\\pi, \\pi]$, but this does make explicit the link between scales and the Cavanagh et al. convention.\n",
      "\n",
      "In its current form, `continuous_wavelet` implements the relationship above, complete with $2\\pi@"
     ]
    }
   ],
   "metadata": {}
  }
 ]
}